{
 "cells": [
  {
   "cell_type": "code",
   "execution_count": 10,
   "id": "b1580f54-8ec6-4726-b806-f0fff9f52f6b",
   "metadata": {},
   "outputs": [
    {
     "data": {
      "text/plain": [
       "datetime.datetime(2019, 11, 2, 0, 0)"
      ]
     },
     "execution_count": 10,
     "metadata": {},
     "output_type": "execute_result"
    }
   ],
   "source": [
    "from datetime import datetime\n",
    "from dateutil import parser\n",
    "import numpy as np\n",
    "\n",
    "dt = datetime(year=2019, month=11, day=2)\n",
    "dt"
   ]
  },
  {
   "cell_type": "code",
   "execution_count": 9,
   "id": "4335e2b4-402b-4bb6-8dc4-ccbe5a7408f5",
   "metadata": {},
   "outputs": [
    {
     "data": {
      "text/plain": [
       "datetime.datetime(2019, 10, 24, 0, 0)"
      ]
     },
     "execution_count": 9,
     "metadata": {},
     "output_type": "execute_result"
    }
   ],
   "source": [
    "date = parser.parse('24th of October, 2019')\n",
    "date"
   ]
  },
  {
   "cell_type": "code",
   "execution_count": 12,
   "id": "b53a20a7-edad-4fe0-861e-6fc8e1c955fa",
   "metadata": {},
   "outputs": [
    {
     "data": {
      "text/plain": [
       "array('2019-11-02', dtype='datetime64[D]')"
      ]
     },
     "execution_count": 12,
     "metadata": {},
     "output_type": "execute_result"
    }
   ],
   "source": [
    "date = np.array('2019-11-02', dtype='datetime64[D]')\n",
    "date"
   ]
  },
  {
   "cell_type": "code",
   "execution_count": 14,
   "id": "2ec4bb65-fc75-4661-bf6d-55f67cf2ab47",
   "metadata": {},
   "outputs": [
    {
     "data": {
      "text/plain": [
       "array(['2019-11-02', '2019-11-03', '2019-11-04', '2019-11-05',\n",
       "       '2019-11-06', '2019-11-07', '2019-11-08', '2019-11-09',\n",
       "       '2019-11-10', '2019-11-11', '2019-11-12', '2019-11-13'],\n",
       "      dtype='datetime64[D]')"
      ]
     },
     "execution_count": 14,
     "metadata": {},
     "output_type": "execute_result"
    }
   ],
   "source": [
    "date + np.arange(12)"
   ]
  },
  {
   "cell_type": "code",
   "execution_count": null,
   "id": "eeda071c-9292-47bd-9965-e6e41c8050f1",
   "metadata": {},
   "outputs": [],
   "source": []
  }
 ],
 "metadata": {
  "kernelspec": {
   "display_name": "Python 3",
   "language": "python",
   "name": "python3"
  },
  "language_info": {
   "codemirror_mode": {
    "name": "ipython",
    "version": 3
   },
   "file_extension": ".py",
   "mimetype": "text/x-python",
   "name": "python",
   "nbconvert_exporter": "python",
   "pygments_lexer": "ipython3",
   "version": "3.8.5"
  }
 },
 "nbformat": 4,
 "nbformat_minor": 5
}
