{
 "cells": [
  {
   "cell_type": "code",
   "execution_count": 3,
   "id": "6570c7db-c24b-4fe8-89b7-0e3d2dbbce4c",
   "metadata": {},
   "outputs": [
    {
     "data": {
      "text/plain": [
       "a      3\n",
       "b    cat\n",
       "c     25\n",
       "dtype: object"
      ]
     },
     "execution_count": 3,
     "metadata": {},
     "output_type": "execute_result"
    }
   ],
   "source": [
    "import pandas as pd\n",
    "\n",
    "dict = {'a':3, 'b':'cat', 'c':25}\n",
    "pd.Series(dict)\n"
   ]
  },
  {
   "cell_type": "markdown",
   "id": "99ac96c1-0ea7-4168-bd28-a1ad60f5e12c",
   "metadata": {},
   "source": [
    "## Series de uma dimensão"
   ]
  },
  {
   "cell_type": "code",
   "execution_count": 3,
   "id": "531525af-e966-4281-adb2-da0ebf560428",
   "metadata": {},
   "outputs": [
    {
     "data": {
      "text/plain": [
       "Amy     100\n",
       "Boby    cat\n",
       "Cat     310\n",
       "Don     gog\n",
       "Emma    500\n",
       "dtype: object"
      ]
     },
     "execution_count": 3,
     "metadata": {},
     "output_type": "execute_result"
    }
   ],
   "source": [
    "oneD = pd.Series([100, 'cat', 310, 'gog', 500], ['Amy', 'Boby', 'Cat', 'Don', 'Emma'])\n",
    "oneD"
   ]
  },
  {
   "cell_type": "markdown",
   "id": "0a2f84c2-3bfb-49c1-8af5-8ca59f5e8767",
   "metadata": {},
   "source": [
    "## acessar valor (Indice)"
   ]
  },
  {
   "cell_type": "code",
   "execution_count": 8,
   "id": "e084d24c-f4f0-4d57-b1e1-69486eb5ef71",
   "metadata": {},
   "outputs": [
    {
     "data": {
      "text/plain": [
       "Cat     310\n",
       "Boby    cat\n",
       "dtype: object"
      ]
     },
     "execution_count": 8,
     "metadata": {},
     "output_type": "execute_result"
    }
   ],
   "source": [
    "oneD.loc[['Cat', 'Boby']]"
   ]
  },
  {
   "cell_type": "markdown",
   "id": "68340e65-f4aa-405f-bb73-c40bb97bdad5",
   "metadata": {},
   "source": [
    "## acessar valor (posião)"
   ]
  },
  {
   "cell_type": "code",
   "execution_count": 12,
   "id": "424cf1ae-6f00-4009-a906-3ba767c4fa57",
   "metadata": {},
   "outputs": [
    {
     "data": {
      "text/plain": [
       "500"
      ]
     },
     "execution_count": 12,
     "metadata": {},
     "output_type": "execute_result"
    }
   ],
   "source": [
    "oneD.iloc[4]"
   ]
  },
  {
   "cell_type": "markdown",
   "id": "4672b0a1-fca9-43e1-a45c-06f1d28203c1",
   "metadata": {},
   "source": [
    "## existe valor no indice ?"
   ]
  },
  {
   "cell_type": "code",
   "execution_count": 13,
   "id": "18b20a5f-8341-430b-988e-cd828fca8058",
   "metadata": {},
   "outputs": [
    {
     "data": {
      "text/plain": [
       "True"
      ]
     },
     "execution_count": 13,
     "metadata": {},
     "output_type": "execute_result"
    }
   ],
   "source": [
    "'Cat' in oneD"
   ]
  },
  {
   "cell_type": "markdown",
   "id": "79fafe20-45c2-4649-8c80-cdd872419cda",
   "metadata": {},
   "source": [
    "# Data Frame "
   ]
  },
  {
   "cell_type": "code",
   "execution_count": 6,
   "id": "7eaec820-2cc9-4cf1-a994-8618bc859cde",
   "metadata": {},
   "outputs": [],
   "source": [
    "d = {\n",
    "    'A': pd.Series([100, 200, 300], ['Maça', 'Pera', 'Laranja']),\n",
    "    'B': pd.Series([111., 222, 333., 444], ['Maça', 'Pera', 'Laranja', 'Melão'])\n",
    "    }\n"
   ]
  },
  {
   "cell_type": "code",
   "execution_count": 7,
   "id": "f8832379-80ed-46df-88c7-30abf935be34",
   "metadata": {},
   "outputs": [
    {
     "name": "stdout",
     "output_type": "stream",
     "text": [
      "             A      B\n",
      "Laranja  300.0  333.0\n",
      "Maça     100.0  111.0\n",
      "Melão      NaN  444.0\n",
      "Pera     200.0  222.0\n",
      "Index(['A', 'B'], dtype='object')\n",
      "Index(['Laranja', 'Maça', 'Melão', 'Pera'], dtype='object')\n"
     ]
    }
   ],
   "source": [
    "df = pd.DataFrame(d)\n",
    "print(df)\n",
    "print(df.columns)\n",
    "print(df.index)"
   ]
  },
  {
   "cell_type": "markdown",
   "id": "ad49532c-4ac9-4e53-9143-5523d2e29223",
   "metadata": {},
   "source": [
    "## selecionando coluna"
   ]
  },
  {
   "cell_type": "code",
   "execution_count": 36,
   "id": "2396a265-1a3b-4844-a1f3-1d0ee6a90562",
   "metadata": {},
   "outputs": [
    {
     "data": {
      "text/html": [
       "<div>\n",
       "<style scoped>\n",
       "    .dataframe tbody tr th:only-of-type {\n",
       "        vertical-align: middle;\n",
       "    }\n",
       "\n",
       "    .dataframe tbody tr th {\n",
       "        vertical-align: top;\n",
       "    }\n",
       "\n",
       "    .dataframe thead th {\n",
       "        text-align: right;\n",
       "    }\n",
       "</style>\n",
       "<table border=\"1\" class=\"dataframe\">\n",
       "  <thead>\n",
       "    <tr style=\"text-align: right;\">\n",
       "      <th></th>\n",
       "      <th>A</th>\n",
       "    </tr>\n",
       "  </thead>\n",
       "  <tbody>\n",
       "    <tr>\n",
       "      <th>Laranja</th>\n",
       "      <td>300.0</td>\n",
       "    </tr>\n",
       "    <tr>\n",
       "      <th>Melão</th>\n",
       "      <td>NaN</td>\n",
       "    </tr>\n",
       "    <tr>\n",
       "      <th>Maça</th>\n",
       "      <td>100.0</td>\n",
       "    </tr>\n",
       "  </tbody>\n",
       "</table>\n",
       "</div>"
      ],
      "text/plain": [
       "             A\n",
       "Laranja  300.0\n",
       "Melão      NaN\n",
       "Maça     100.0"
      ]
     },
     "execution_count": 36,
     "metadata": {},
     "output_type": "execute_result"
    }
   ],
   "source": [
    "pd.DataFrame(df, index=['Laranja', 'Melão', 'Maça'], columns=['A'])"
   ]
  }
 ],
 "metadata": {
  "kernelspec": {
   "display_name": "Python 3",
   "language": "python",
   "name": "python3"
  },
  "language_info": {
   "codemirror_mode": {
    "name": "ipython",
    "version": 3
   },
   "file_extension": ".py",
   "mimetype": "text/x-python",
   "name": "python",
   "nbconvert_exporter": "python",
   "pygments_lexer": "ipython3",
   "version": "3.8.5"
  }
 },
 "nbformat": 4,
 "nbformat_minor": 5
}
