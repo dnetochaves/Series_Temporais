{
 "cells": [
  {
   "cell_type": "code",
   "execution_count": 12,
   "id": "dc7509b2-aa68-4734-883b-77db07bdcb80",
   "metadata": {},
   "outputs": [],
   "source": [
    "import pandas as pd\n",
    "import html5lib\n",
    "\n",
    "br = pd.read_html(\"https://pt.wikipedia.org/wiki/Unidades_federativas_do_Brasil\")"
   ]
  },
  {
   "cell_type": "code",
   "execution_count": 13,
   "id": "fb04ff07-ad28-4c13-9782-898c674d947b",
   "metadata": {},
   "outputs": [
    {
     "name": "stdout",
     "output_type": "stream",
     "text": [
      "<class 'list'>\n"
     ]
    }
   ],
   "source": [
    "print(type(br))"
   ]
  },
  {
   "cell_type": "code",
   "execution_count": 17,
   "id": "3729c1e5-57fc-4e2e-b8d3-1866e94cdcc7",
   "metadata": {},
   "outputs": [
    {
     "name": "stdout",
     "output_type": "stream",
     "text": [
      "                     0                                                  1\n",
      "0         Região Norte  Acre Amapá Amazonas Pará Rondônia Roraima Toca...\n",
      "1      Região Nordeste  Alagoas Bahia Ceará Maranhão Paraíba Pernambuc...\n",
      "2  Região Centro-Oeste  Distrito Federal Goiás Mato Grosso Mato Grosso...\n",
      "3       Região Sudeste  Espírito Santo Minas Gerais Rio de Janeiro São...\n",
      "4           Região Sul            Paraná Rio Grande do Sul Santa Catarina\n"
     ]
    }
   ],
   "source": [
    "u = br[0]\n",
    "print(u)"
   ]
  },
  {
   "cell_type": "code",
   "execution_count": 19,
   "id": "ede9e31a-badb-4db6-9ae2-3c6a26da3e45",
   "metadata": {},
   "outputs": [],
   "source": [
    "import pandas as pd\n",
    "import html5lib\n",
    "\n",
    "bancos = pd.read_html(\"https://pt.wikipedia.org/wiki/Lista_dos_maiores_bancos_do_Brasil\")"
   ]
  },
  {
   "cell_type": "code",
   "execution_count": 24,
   "id": "1a773d99-c9e9-4763-9f7d-71adb92f8f45",
   "metadata": {},
   "outputs": [
    {
     "name": "stdout",
     "output_type": "stream",
     "text": [
      "    Posição            Nome do banco   Cidade sede  Lucro em R$ (milhões)  \\\n",
      "0         1           Banco Bradesco        Osasco                22.6235   \n",
      "1         2      Banco Itaú Unibanco     São Paulo                22.1177   \n",
      "2         3  Caixa Econômica Federal        Osasco                17.4896   \n",
      "3         4          Banco do Brasil     São Paulo                15.6851   \n",
      "4         5   Banco Santander Brasil     São Paulo                12.6092   \n",
      "5         6        Banco BTG Pactual     São Paulo                 3.5938   \n",
      "6         7                   Sicoob      Brasília                 3.0500   \n",
      "7         8              Banco Safra     São Paulo                 1.9948   \n",
      "8         9        Banco do Nordeste     Fortaleza                 1.5655   \n",
      "9        10         Banco Votorantim     São Paulo                 1.1834   \n",
      "10       11                 Banrisul  Porto Alegre                 1.1483   \n",
      "11       12          Citibank Brasil     São Paulo              9577.0000   \n",
      "\n",
      "    Ano dos dados  País de origem  \n",
      "0            2019          Brasil  \n",
      "1            2019          Brasil  \n",
      "2            2019          Brasil  \n",
      "3            2019          Brasil  \n",
      "4            2019         Espanha  \n",
      "5            2019          Brasil  \n",
      "6            2019          Brasil  \n",
      "7            2019          Brasil  \n",
      "8            2019          Brasil  \n",
      "9            2019          Brasil  \n",
      "10           2019          Brasil  \n",
      "11           2019  Estados Unidos  \n"
     ]
    }
   ],
   "source": [
    "b = bancos[3]\n",
    "print(b)"
   ]
  }
 ],
 "metadata": {
  "kernelspec": {
   "display_name": "Python 3",
   "language": "python",
   "name": "python3"
  },
  "language_info": {
   "codemirror_mode": {
    "name": "ipython",
    "version": 3
   },
   "file_extension": ".py",
   "mimetype": "text/x-python",
   "name": "python",
   "nbconvert_exporter": "python",
   "pygments_lexer": "ipython3",
   "version": "3.8.5"
  }
 },
 "nbformat": 4,
 "nbformat_minor": 5
}
